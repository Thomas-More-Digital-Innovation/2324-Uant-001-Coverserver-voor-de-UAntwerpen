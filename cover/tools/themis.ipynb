{
  "cells": [
    {
      "cell_type": "code",
      "execution_count": 13,
      "metadata": {
        "id": "YcQWmpNLsYg0"
      },
      "outputs": [],
      "source": [
        "import matplotlib.pyplot as plt\n",
        "import numpy as np\n",
        "import os\n",
        "import PIL\n",
        "import tensorflow as tf\n",
        "from tensorflow.keras import layers\n",
        "from tensorflow.keras.models import Sequential\n",
        "from tensorflow.keras.optimizers import Adam\n",
        "from tensorflow.keras.preprocessing.image import ImageDataGenerator\n"
      ]
    },
    {
      "cell_type": "code",
      "execution_count": 2,
      "metadata": {
        "id": "or20LghBwz6c"
      },
      "outputs": [],
      "source": [
        "# wanneer google colab gebruiken, uit comments halen\n",
        "# from google.colab import drive\n",
        "# drive.mount('/content/drive')"
      ]
    },
    {
      "cell_type": "code",
      "execution_count": 2,
      "metadata": {
        "id": "EyCqg4HlwbgS"
      },
      "outputs": [],
      "source": [
        "# DATADIR = r\"/content/drive/MyDrive/covers\"  # Path naar data op google drive\n",
        "# DATADIR = r\"C:\\covers\\covers\"  # Path naar data lokaal\n",
        "DATADIR = '/mnt/c/covers/covers'  # Path naar data met WSL2\n",
        "\n",
        "img_height, img_width = 224, 224\n",
        "batch_size=8\n",
        "# Larger batch size may provide some computational speed-up but requires more memory\n",
        "# Smaller batch sizes may offer better generalization, but training might be slower"
      ]
    },
    {
      "cell_type": "code",
      "execution_count": 3,
      "metadata": {
        "colab": {
          "base_uri": "https://localhost:8080/"
        },
        "id": "7qYYl1CQxInI",
        "outputId": "a3bcfbcf-2c2c-42b7-c046-95a51bea20f3"
      },
      "outputs": [
        {
          "name": "stdout",
          "output_type": "stream",
          "text": [
            "Found 9863 files belonging to 2 classes.\n",
            "Using 8384 files for training.\n"
          ]
        },
        {
          "name": "stderr",
          "output_type": "stream",
          "text": [
            "2024-02-29 15:57:54.502357: I external/local_xla/xla/stream_executor/cuda/cuda_executor.cc:887] could not open file to read NUMA node: /sys/bus/pci/devices/0000:05:00.0/numa_node\n",
            "Your kernel may have been built without NUMA support.\n",
            "2024-02-29 15:57:54.655293: I external/local_xla/xla/stream_executor/cuda/cuda_executor.cc:887] could not open file to read NUMA node: /sys/bus/pci/devices/0000:05:00.0/numa_node\n",
            "Your kernel may have been built without NUMA support.\n",
            "2024-02-29 15:57:54.655359: I external/local_xla/xla/stream_executor/cuda/cuda_executor.cc:887] could not open file to read NUMA node: /sys/bus/pci/devices/0000:05:00.0/numa_node\n",
            "Your kernel may have been built without NUMA support.\n",
            "2024-02-29 15:57:54.658138: I external/local_xla/xla/stream_executor/cuda/cuda_executor.cc:887] could not open file to read NUMA node: /sys/bus/pci/devices/0000:05:00.0/numa_node\n",
            "Your kernel may have been built without NUMA support.\n",
            "2024-02-29 15:57:54.658181: I external/local_xla/xla/stream_executor/cuda/cuda_executor.cc:887] could not open file to read NUMA node: /sys/bus/pci/devices/0000:05:00.0/numa_node\n",
            "Your kernel may have been built without NUMA support.\n",
            "2024-02-29 15:57:54.658202: I external/local_xla/xla/stream_executor/cuda/cuda_executor.cc:887] could not open file to read NUMA node: /sys/bus/pci/devices/0000:05:00.0/numa_node\n",
            "Your kernel may have been built without NUMA support.\n",
            "2024-02-29 15:57:54.813810: I external/local_xla/xla/stream_executor/cuda/cuda_executor.cc:887] could not open file to read NUMA node: /sys/bus/pci/devices/0000:05:00.0/numa_node\n",
            "Your kernel may have been built without NUMA support.\n",
            "2024-02-29 15:57:54.813865: I external/local_xla/xla/stream_executor/cuda/cuda_executor.cc:887] could not open file to read NUMA node: /sys/bus/pci/devices/0000:05:00.0/numa_node\n",
            "Your kernel may have been built without NUMA support.\n",
            "2024-02-29 15:57:54.813872: I tensorflow/core/common_runtime/gpu/gpu_device.cc:2022] Could not identify NUMA node of platform GPU id 0, defaulting to 0.  Your kernel may not have been built with NUMA support.\n",
            "2024-02-29 15:57:54.813904: I external/local_xla/xla/stream_executor/cuda/cuda_executor.cc:887] could not open file to read NUMA node: /sys/bus/pci/devices/0000:05:00.0/numa_node\n",
            "Your kernel may have been built without NUMA support.\n",
            "2024-02-29 15:57:54.813927: I tensorflow/core/common_runtime/gpu/gpu_device.cc:1929] Created device /job:localhost/replica:0/task:0/device:GPU:0 with 5564 MB memory:  -> device: 0, name: NVIDIA GeForce RTX 3070, pci bus id: 0000:05:00.0, compute capability: 8.6\n",
            "2024-02-29 15:57:55.311395: I external/local_tsl/tsl/platform/default/subprocess.cc:304] Start cannot spawn child process: No such file or directory\n"
          ]
        }
      ],
      "source": [
        "train_ds = tf.keras.preprocessing.image_dataset_from_directory(\n",
        "  DATADIR,\n",
        "  validation_split=0.15,\n",
        "  subset=\"training\",\n",
        "  seed=123,\n",
        "  image_size=(img_height, img_width),\n",
        "  batch_size=batch_size,\n",
        "  )"
      ]
    },
    {
      "cell_type": "code",
      "execution_count": 4,
      "metadata": {
        "colab": {
          "base_uri": "https://localhost:8080/"
        },
        "id": "F8ktc70mxyOS",
        "outputId": "d7c187b1-3652-4383-a432-ad3b200142f6"
      },
      "outputs": [
        {
          "name": "stdout",
          "output_type": "stream",
          "text": [
            "Found 9863 files belonging to 2 classes.\n",
            "Using 1479 files for validation.\n"
          ]
        }
      ],
      "source": [
        "val_ds = tf.keras.preprocessing.image_dataset_from_directory(\n",
        "  DATADIR,\n",
        "  validation_split=0.15,\n",
        "  subset=\"validation\",\n",
        "  seed=123,\n",
        "  image_size=(img_height, img_width),\n",
        "  batch_size=batch_size,\n",
        "  )"
      ]
    },
    {
      "cell_type": "code",
      "execution_count": 5,
      "metadata": {
        "colab": {
          "base_uri": "https://localhost:8080/"
        },
        "id": "nmR5Bhdfx78H",
        "outputId": "302c220f-5768-4010-e7bf-4b89de766f51"
      },
      "outputs": [
        {
          "name": "stdout",
          "output_type": "stream",
          "text": [
            "Label 0: 5735 samples\n",
            "Label 1: 2649 samples\n",
            "{0: 1.818, 1: 4.0}\n"
          ]
        }
      ],
      "source": [
        "from collections import Counter\n",
        "import tensorflow as tf\n",
        "\n",
        "# Counting the labels\n",
        "label_counts = Counter()\n",
        "for _, labels in train_ds:\n",
        "    label_counts.update(labels.numpy())\n",
        "\n",
        "# Printing out the count of each label\n",
        "for label, count in label_counts.items():\n",
        "    print(f\"Label {label}: {count} samples\")\n",
        "\n",
        "\n",
        "class_weights = {0: 1.818, 1: 4.0}\n",
        "\n",
        "\n",
        "print(class_weights)"
      ]
    },
    {
      "cell_type": "code",
      "execution_count": 6,
      "metadata": {},
      "outputs": [],
      "source": [
        "# Define the ModuleWrapper class\n",
        "class ModuleWrapper(tf.keras.layers.Layer):\n",
        "    def __init__(self, module, method_name, **kwargs):\n",
        "        super(ModuleWrapper, self).__init__(**kwargs)\n",
        "        self.module = module\n",
        "        self.method_name = method_name\n",
        "\n",
        "    def call(self, inputs):\n",
        "        pass\n",
        "\n",
        "    def get_config(self):\n",
        "        config = super(ModuleWrapper, self).get_config()\n",
        "        config.update({\n",
        "            'module': self.module,\n",
        "            'method_name': self.method_name\n",
        "        })\n",
        "        return config"
      ]
    },
    {
      "cell_type": "code",
      "execution_count": 7,
      "metadata": {},
      "outputs": [],
      "source": [
        "data_augmentation = tf.keras.Sequential([\n",
        "    layers.RandomContrast(0.2), \n",
        "    layers.RandomBrightness(0.2),\n",
        "])"
      ]
    },
    {
      "cell_type": "code",
      "execution_count": 8,
      "metadata": {},
      "outputs": [],
      "source": [
        "lr_schedule = tf.keras.optimizers.schedules.ExponentialDecay(\n",
        "    initial_learning_rate=0.001,\n",
        "    decay_steps=1000,\n",
        "    decay_rate=0.9\n",
        ")"
      ]
    },
    {
      "cell_type": "code",
      "execution_count": 9,
      "metadata": {
        "colab": {
          "base_uri": "https://localhost:8080/"
        },
        "id": "kYKtE2KccG9s",
        "outputId": "748c6fc5-4884-4286-e45f-4a19700bc7b3"
      },
      "outputs": [],
      "source": [
        "resnet_model = Sequential()\n",
        "\n",
        "pretrained_model = tf.keras.applications.ResNet50(\n",
        "    include_top=False,\n",
        "    input_shape=(img_height, img_width, 3),\n",
        "    pooling='avg',\n",
        "    classes=1,\n",
        "    weights='imagenet'\n",
        ")\n",
        "\n",
        "for layer in pretrained_model.layers:\n",
        "    layer.trainable = False\n",
        "\n",
        "# resnet_model.add(data_augmentation)\n",
        "resnet_model.add(pretrained_model)\n",
        "resnet_model.add(layers.Flatten())\n",
        "resnet_model.add(layers.Dense(512, activation='relu'))\n",
        "resnet_model.add(layers.Dropout(0.2))\n",
        "resnet_model.add(layers.Dense(1, activation='sigmoid'))\n",
        "\n",
        "module_wrapper = ModuleWrapper(pretrained_model, \"call\")\n",
        "module_wrapper.build((None, img_height, img_width, 3))\n",
        "\n",
        "# pretrained_model.summary()"
      ]
    },
    {
      "cell_type": "code",
      "execution_count": 10,
      "metadata": {
        "id": "4Q1YSZpOgqn5"
      },
      "outputs": [],
      "source": [
        "resnet_model.compile(optimizer=Adam(learning_rate=lr_schedule), loss='binary_crossentropy', metrics=['accuracy'])"
      ]
    },
    {
      "cell_type": "code",
      "execution_count": 11,
      "metadata": {},
      "outputs": [
        {
          "name": "stdout",
          "output_type": "stream",
          "text": [
            "Epoch 1/50\n"
          ]
        },
        {
          "name": "stderr",
          "output_type": "stream",
          "text": [
            "2024-02-29 15:58:29.528170: I external/local_xla/xla/stream_executor/cuda/cuda_dnn.cc:454] Loaded cuDNN version 8904\n",
            "2024-02-29 15:58:29.855334: I external/local_tsl/tsl/platform/default/subprocess.cc:304] Start cannot spawn child process: No such file or directory\n",
            "2024-02-29 15:58:32.352702: I external/local_xla/xla/service/service.cc:168] XLA service 0x7f9da444c6b0 initialized for platform CUDA (this does not guarantee that XLA will be used). Devices:\n",
            "2024-02-29 15:58:32.352778: I external/local_xla/xla/service/service.cc:176]   StreamExecutor device (0): NVIDIA GeForce RTX 3070, Compute Capability 8.6\n",
            "2024-02-29 15:58:32.365552: I tensorflow/compiler/mlir/tensorflow/utils/dump_mlir_util.cc:269] disabling MLIR crash reproducer, set env var `MLIR_CRASH_REPRODUCER_DIRECTORY` to enable.\n",
            "WARNING: All log messages before absl::InitializeLog() is called are written to STDERR\n",
            "I0000 00:00:1709218712.462496    1434 device_compiler.h:186] Compiled cluster using XLA!  This line is logged at most once for the lifetime of the process.\n"
          ]
        },
        {
          "name": "stdout",
          "output_type": "stream",
          "text": [
            "1048/1048 [==============================] - 38s 31ms/step - loss: 1.4480 - accuracy: 0.7313 - val_loss: 0.5692 - val_accuracy: 0.7066\n",
            "Epoch 2/50\n",
            "1048/1048 [==============================] - 29s 27ms/step - loss: 1.1240 - accuracy: 0.7958 - val_loss: 0.5140 - val_accuracy: 0.7417\n",
            "Epoch 3/50\n",
            "1048/1048 [==============================] - 28s 27ms/step - loss: 1.0229 - accuracy: 0.8208 - val_loss: 0.4974 - val_accuracy: 0.7552\n",
            "Epoch 4/50\n",
            "1048/1048 [==============================] - 28s 27ms/step - loss: 0.8957 - accuracy: 0.8427 - val_loss: 0.5457 - val_accuracy: 0.7350\n",
            "Epoch 5/50\n",
            "1048/1048 [==============================] - 28s 27ms/step - loss: 0.7899 - accuracy: 0.8687 - val_loss: 0.4986 - val_accuracy: 0.7606\n",
            "Epoch 6/50\n",
            "1048/1048 [==============================] - 28s 27ms/step - loss: 0.6774 - accuracy: 0.8888 - val_loss: 0.4718 - val_accuracy: 0.7863\n",
            "Epoch 7/50\n",
            "1048/1048 [==============================] - 30s 28ms/step - loss: 0.6056 - accuracy: 0.9020 - val_loss: 0.4848 - val_accuracy: 0.7978\n",
            "Epoch 8/50\n",
            "1048/1048 [==============================] - 30s 28ms/step - loss: 0.5270 - accuracy: 0.9152 - val_loss: 0.5459 - val_accuracy: 0.7721\n",
            "Epoch 9/50\n",
            "1048/1048 [==============================] - 29s 28ms/step - loss: 0.4574 - accuracy: 0.9295 - val_loss: 0.5149 - val_accuracy: 0.7951\n",
            "Epoch 10/50\n",
            "1048/1048 [==============================] - 29s 28ms/step - loss: 0.4169 - accuracy: 0.9352 - val_loss: 0.5158 - val_accuracy: 0.8053\n",
            "Epoch 11/50\n",
            "1048/1048 [==============================] - 27s 26ms/step - loss: 0.3754 - accuracy: 0.9425 - val_loss: 0.5554 - val_accuracy: 0.7958\n",
            "Epoch 12/50\n",
            "1048/1048 [==============================] - 28s 27ms/step - loss: 0.3536 - accuracy: 0.9445 - val_loss: 0.5758 - val_accuracy: 0.7999\n",
            "Epoch 13/50\n",
            "1048/1048 [==============================] - 27s 26ms/step - loss: 0.3195 - accuracy: 0.9509 - val_loss: 0.5770 - val_accuracy: 0.8134\n",
            "Epoch 14/50\n",
            "1048/1048 [==============================] - 27s 26ms/step - loss: 0.3000 - accuracy: 0.9550 - val_loss: 0.5841 - val_accuracy: 0.8093\n",
            "Epoch 15/50\n",
            "1048/1048 [==============================] - 27s 26ms/step - loss: 0.2763 - accuracy: 0.9578 - val_loss: 0.6046 - val_accuracy: 0.8012\n",
            "Epoch 16/50\n",
            "1048/1048 [==============================] - 27s 26ms/step - loss: 0.2719 - accuracy: 0.9599 - val_loss: 0.5996 - val_accuracy: 0.8059\n",
            "Epoch 17/50\n",
            "1048/1048 [==============================] - 26s 25ms/step - loss: 0.2528 - accuracy: 0.9639 - val_loss: 0.6088 - val_accuracy: 0.8100\n",
            "Epoch 18/50\n",
            "1048/1048 [==============================] - 27s 26ms/step - loss: 0.2330 - accuracy: 0.9646 - val_loss: 0.6200 - val_accuracy: 0.8012\n",
            "Epoch 19/50\n",
            "1048/1048 [==============================] - 28s 26ms/step - loss: 0.2289 - accuracy: 0.9672 - val_loss: 0.6165 - val_accuracy: 0.8174\n",
            "Epoch 20/50\n",
            "1048/1048 [==============================] - 27s 25ms/step - loss: 0.2228 - accuracy: 0.9680 - val_loss: 0.6385 - val_accuracy: 0.8080\n",
            "Epoch 21/50\n",
            "1048/1048 [==============================] - 28s 27ms/step - loss: 0.2155 - accuracy: 0.9688 - val_loss: 0.6473 - val_accuracy: 0.8032\n",
            "Epoch 22/50\n",
            "1048/1048 [==============================] - 27s 26ms/step - loss: 0.2107 - accuracy: 0.9697 - val_loss: 0.6429 - val_accuracy: 0.8080\n",
            "Epoch 23/50\n",
            "1048/1048 [==============================] - 27s 26ms/step - loss: 0.2093 - accuracy: 0.9690 - val_loss: 0.6451 - val_accuracy: 0.8039\n",
            "Epoch 24/50\n",
            "1048/1048 [==============================] - 27s 25ms/step - loss: 0.2012 - accuracy: 0.9708 - val_loss: 0.6617 - val_accuracy: 0.8032\n",
            "Epoch 25/50\n",
            "1048/1048 [==============================] - 26s 25ms/step - loss: 0.1930 - accuracy: 0.9719 - val_loss: 0.6761 - val_accuracy: 0.8053\n",
            "Epoch 26/50\n",
            "1048/1048 [==============================] - 27s 25ms/step - loss: 0.1813 - accuracy: 0.9729 - val_loss: 0.6741 - val_accuracy: 0.8053\n",
            "Epoch 27/50\n",
            "1048/1048 [==============================] - 26s 25ms/step - loss: 0.1847 - accuracy: 0.9735 - val_loss: 0.6747 - val_accuracy: 0.8073\n",
            "Epoch 28/50\n",
            "1048/1048 [==============================] - 26s 25ms/step - loss: 0.1769 - accuracy: 0.9736 - val_loss: 0.6729 - val_accuracy: 0.8032\n",
            "Epoch 29/50\n",
            "1048/1048 [==============================] - 26s 25ms/step - loss: 0.1771 - accuracy: 0.9716 - val_loss: 0.6746 - val_accuracy: 0.8107\n",
            "Epoch 30/50\n",
            "1048/1048 [==============================] - 26s 25ms/step - loss: 0.1643 - accuracy: 0.9742 - val_loss: 0.6867 - val_accuracy: 0.8073\n",
            "Epoch 31/50\n",
            "1048/1048 [==============================] - 27s 26ms/step - loss: 0.1632 - accuracy: 0.9758 - val_loss: 0.6862 - val_accuracy: 0.8087\n",
            "Epoch 32/50\n",
            "1048/1048 [==============================] - 28s 26ms/step - loss: 0.1625 - accuracy: 0.9739 - val_loss: 0.6890 - val_accuracy: 0.8073\n",
            "Epoch 33/50\n",
            "1048/1048 [==============================] - 28s 27ms/step - loss: 0.1593 - accuracy: 0.9753 - val_loss: 0.6931 - val_accuracy: 0.8107\n",
            "Epoch 34/50\n",
            "1048/1048 [==============================] - 27s 26ms/step - loss: 0.1603 - accuracy: 0.9776 - val_loss: 0.6956 - val_accuracy: 0.8087\n",
            "Epoch 35/50\n",
            "1048/1048 [==============================] - 29s 27ms/step - loss: 0.1573 - accuracy: 0.9760 - val_loss: 0.6974 - val_accuracy: 0.8100\n",
            "Epoch 36/50\n",
            "1048/1048 [==============================] - 27s 26ms/step - loss: 0.1525 - accuracy: 0.9773 - val_loss: 0.6974 - val_accuracy: 0.8114\n",
            "Epoch 37/50\n",
            "1048/1048 [==============================] - 27s 26ms/step - loss: 0.1573 - accuracy: 0.9765 - val_loss: 0.7029 - val_accuracy: 0.8093\n",
            "Epoch 38/50\n",
            "1048/1048 [==============================] - 27s 25ms/step - loss: 0.1543 - accuracy: 0.9771 - val_loss: 0.7004 - val_accuracy: 0.8120\n",
            "Epoch 39/50\n",
            "1048/1048 [==============================] - 27s 25ms/step - loss: 0.1502 - accuracy: 0.9771 - val_loss: 0.7019 - val_accuracy: 0.8114\n",
            "Epoch 40/50\n",
            "1048/1048 [==============================] - 26s 25ms/step - loss: 0.1499 - accuracy: 0.9760 - val_loss: 0.7027 - val_accuracy: 0.8181\n",
            "Epoch 41/50\n",
            "1048/1048 [==============================] - 26s 25ms/step - loss: 0.1513 - accuracy: 0.9763 - val_loss: 0.7037 - val_accuracy: 0.8120\n",
            "Epoch 42/50\n",
            "1048/1048 [==============================] - 27s 25ms/step - loss: 0.1456 - accuracy: 0.9776 - val_loss: 0.7061 - val_accuracy: 0.8127\n",
            "Epoch 43/50\n",
            "1048/1048 [==============================] - 27s 25ms/step - loss: 0.1469 - accuracy: 0.9783 - val_loss: 0.7058 - val_accuracy: 0.8127\n",
            "Epoch 44/50\n",
            "1048/1048 [==============================] - 27s 25ms/step - loss: 0.1475 - accuracy: 0.9770 - val_loss: 0.7074 - val_accuracy: 0.8093\n",
            "Epoch 45/50\n",
            "1048/1048 [==============================] - 27s 25ms/step - loss: 0.1451 - accuracy: 0.9776 - val_loss: 0.7065 - val_accuracy: 0.8174\n",
            "Epoch 46/50\n",
            "1048/1048 [==============================] - 26s 25ms/step - loss: 0.1484 - accuracy: 0.9772 - val_loss: 0.7073 - val_accuracy: 0.8127\n",
            "Epoch 47/50\n",
            "1048/1048 [==============================] - 26s 25ms/step - loss: 0.1435 - accuracy: 0.9771 - val_loss: 0.7086 - val_accuracy: 0.8161\n",
            "Epoch 48/50\n",
            "1048/1048 [==============================] - 27s 25ms/step - loss: 0.1445 - accuracy: 0.9788 - val_loss: 0.7091 - val_accuracy: 0.8168\n",
            "Epoch 49/50\n",
            "1048/1048 [==============================] - 27s 25ms/step - loss: 0.1477 - accuracy: 0.9757 - val_loss: 0.7076 - val_accuracy: 0.8161\n",
            "Epoch 50/50\n",
            "1048/1048 [==============================] - 27s 25ms/step - loss: 0.1409 - accuracy: 0.9794 - val_loss: 0.7077 - val_accuracy: 0.8168\n"
          ]
        }
      ],
      "source": [
        "epochs = 50\n",
        "\n",
        "history = resnet_model.fit(\n",
        "    train_ds,\n",
        "    validation_data=val_ds,\n",
        "    epochs=epochs,\n",
        "    class_weight=class_weights\n",
        ")\n"
      ]
    },
    {
      "cell_type": "code",
      "execution_count": 12,
      "metadata": {},
      "outputs": [
        {
          "name": "stdout",
          "output_type": "stream",
          "text": [
            "Model: \"sequential_1\"\n",
            "_________________________________________________________________\n",
            " Layer (type)                Output Shape              Param #   \n",
            "=================================================================\n",
            " resnet50 (Functional)       (None, 2048)              23587712  \n",
            "                                                                 \n",
            " flatten (Flatten)           (None, 2048)              0         \n",
            "                                                                 \n",
            " dense (Dense)               (None, 512)               1049088   \n",
            "                                                                 \n",
            " dropout (Dropout)           (None, 512)               0         \n",
            "                                                                 \n",
            " dense_1 (Dense)             (None, 1)                 513       \n",
            "                                                                 \n",
            "=================================================================\n",
            "Total params: 24637313 (93.98 MB)\n",
            "Trainable params: 1049601 (4.00 MB)\n",
            "Non-trainable params: 23587712 (89.98 MB)\n",
            "_________________________________________________________________\n",
            "None\n"
          ]
        }
      ],
      "source": [
        "from keras.models import load_model\n",
        "\n",
        "resnet_model.save('themis.keras')\n",
        "themis = tf.keras.models.load_model('themis.keras')\n",
        "print(themis.summary())"
      ]
    },
    {
      "cell_type": "code",
      "execution_count": 14,
      "metadata": {
        "colab": {
          "base_uri": "https://localhost:8080/",
          "height": 512
        },
        "id": "GiB1hPvng2AS",
        "outputId": "934f6e23-b6fe-4896-82cd-1d8de38c6cb3"
      },
      "outputs": [
        {
          "data": {
            "image/png": "[encoded data removed]",
            "text/plain": [
              "<Figure size 640x480 with 1 Axes>"
            ]
          },
          "metadata": {},
          "output_type": "display_data"
        },
        {
          "data": {
            "image/png": "[encoded data removed]",
            "text/plain": [
              "<Figure size 640x480 with 1 Axes>"
            ]
          },
          "metadata": {},
          "output_type": "display_data"
        }
      ],
      "source": [
        "# evaluatie accuracy & loss\n",
        "plt.plot(history.history['accuracy'])\n",
        "plt.plot(history.history['val_accuracy'])\n",
        "plt.title('model accuracy')\n",
        "plt.ylabel('accuracy')\n",
        "plt.xlabel('epoch')\n",
        "plt.legend(['Train', 'Validation'], loc='upper left')\n",
        "plt.show()\n",
        "\n",
        "plt.plot(history.history['loss'])\n",
        "plt.plot(history.history['val_loss'])\n",
        "plt.title('model loss')\n",
        "plt.ylabel('loss')\n",
        "plt.xlabel('epoch')\n",
        "plt.legend(['Train', 'Validation'], loc='upper left')\n",
        "plt.show()"
      ]
    },
    {
      "cell_type": "code",
      "execution_count": null,
      "metadata": {},
      "outputs": [],
      "source": [
        "import cv2\n",
        "import os\n",
        "import numpy as np\n",
        "\n",
        "# Load the model\n",
        "# resnet_model = tf.keras.models.load_model(r\"C:\\OwnPorrima\\themis_model_v.keras\") # local\n",
        "resnet_model = tf.keras.models.load_model(\"/mnt/c/OwnPorrima/themis_model_v3.keras\") # wsl2\n",
        "\n",
        "# TEST_DIR = r\"C:\\covers\\testset\" # local\n",
        "TEST_DIR = \"/mnt/c/covers/testset\" # wsl2\n",
        "\n",
        "CATEGORIES = [\"goed\", \"slecht\"]  # Labels / Subfolders\n",
        "\n",
        "img_height, img_width = 224, 224 \n",
        "\n",
        "predictions = []\n",
        "\n",
        "for category in CATEGORIES:\n",
        "    path = os.path.join(TEST_DIR, category)\n",
        "\n",
        "    for img_name in os.listdir(path):\n",
        "        img_path = os.path.join(path, img_name)\n",
        "        \n",
        "        img = cv2.imread(img_path)\n",
        "        img = cv2.resize(img, (img_width, img_height))\n",
        "        img = np.expand_dims(img, axis=0)  # Add batch dimension\n",
        "\n",
        "        prediction = resnet_model.predict(img)\n",
        "        print(prediction)\n",
        "\n",
        "        predicted_category = \"goed\" if prediction[0][0] <= 0.5 else \"slecht\"\n",
        "\n",
        "        predictions.append((img_path, category, predicted_category))\n",
        "\n",
        "for img_path, true_category, predicted_category in predictions:\n",
        "    print(f\"Image: {img_path}, True Category: {true_category}, Predicted Category: {predicted_category}\")\n"
      ]
    }
  ],
  "metadata": {
    "colab": {
      "provenance": []
    },
    "kernelspec": {
      "display_name": "Python 3",
      "name": "python3"
    },
    "language_info": {
      "codemirror_mode": {
        "name": "ipython",
        "version": 3
      },
      "file_extension": ".py",
      "mimetype": "text/x-python",
      "name": "python",
      "nbconvert_exporter": "python",
      "pygments_lexer": "ipython3",
      "version": "3.6.13"
    }
  },
  "nbformat": 4,
  "nbformat_minor": 0
}
