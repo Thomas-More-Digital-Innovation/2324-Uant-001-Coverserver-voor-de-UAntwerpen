{
  "cells": [
    {
      "cell_type": "code",
      "execution_count": 4,
      "metadata": {
        "id": "YcQWmpNLsYg0"
      },
      "outputs": [],
      "source": [
        "import warnings\n",
        "\n",
        "# Suppressen warnings tf, wanneer een gpu gebruikt wordt op in production kunnen deze zaken geïnstalleerd worden\n",
        "warnings.filterwarnings(\"ignore\", category=Warning, message=\".*cuDNN.*\")\n",
        "warnings.filterwarnings(\"ignore\", category=Warning, message=\".*cuFFT.*\")\n",
        "warnings.filterwarnings(\"ignore\", category=Warning, message=\".*cuBLAS.*\")\n",
        "warnings.filterwarnings(\"ignore\", category=Warning, message=\".*TF-TRT.*\")\n",
        "\n",
        "import matplotlib.pyplot as plt\n",
        "import numpy as np\n",
        "import os\n",
        "import PIL\n",
        "import tensorflow as tf\n",
        "from tensorflow.keras import layers\n",
        "from tensorflow.keras.models import Sequential\n",
        "from tensorflow.keras.optimizers import Adam\n",
        "from tensorflow.keras.preprocessing.image import ImageDataGenerator\n"
      ]
    },
    {
      "cell_type": "code",
      "execution_count": 2,
      "metadata": {
        "id": "or20LghBwz6c"
      },
      "outputs": [],
      "source": [
        "# wanneer google colab gebruiken, uit comments halen\n",
        "# from google.colab import drive\n",
        "# drive.mount('/content/drive')"
      ]
    },
    {
      "cell_type": "code",
      "execution_count": 5,
      "metadata": {
        "id": "EyCqg4HlwbgS"
      },
      "outputs": [],
      "source": [
        "# DATADIR = r\"/content/drive/MyDrive/covers\"  # Path naar data op google drive\n",
        "# DATADIR = r\"C:\\covers\\covers\"  # Path naar data lokaal\n",
        "DATADIR = '/mnt/c/covers/covers'  # Path naar data met WSL2\n",
        "\n",
        "img_height, img_width = 224, 224\n",
        "batch_size=8\n",
        "# Larger batch size may provide some computational speed-up but requires more memory\n",
        "# Smaller batch sizes may offer better generalization, but training might be slower"
      ]
    },
    {
      "cell_type": "code",
      "execution_count": null,
      "metadata": {
        "colab": {
          "base_uri": "https://localhost:8080/"
        },
        "id": "7qYYl1CQxInI",
        "outputId": "a3bcfbcf-2c2c-42b7-c046-95a51bea20f3"
      },
      "outputs": [],
      "source": [
        "train_ds = tf.keras.preprocessing.image_dataset_from_directory(\n",
        "  DATADIR,\n",
        "  validation_split=0.20,\n",
        "  subset=\"training\",\n",
        "  seed=123,\n",
        "  image_size=(img_height, img_width),\n",
        "  batch_size=batch_size,\n",
        "  )"
      ]
    },
    {
      "cell_type": "code",
      "execution_count": 8,
      "metadata": {
        "colab": {
          "base_uri": "https://localhost:8080/"
        },
        "id": "F8ktc70mxyOS",
        "outputId": "d7c187b1-3652-4383-a432-ad3b200142f6"
      },
      "outputs": [
        {
          "name": "stdout",
          "output_type": "stream",
          "text": [
            "Found 9863 files belonging to 2 classes.\n",
            "Using 1972 files for validation.\n"
          ]
        }
      ],
      "source": [
        "val_ds = tf.keras.preprocessing.image_dataset_from_directory(\n",
        "  DATADIR,\n",
        "  validation_split=0.20,\n",
        "  subset=\"validation\",\n",
        "  seed=123,\n",
        "  image_size=(img_height, img_width),\n",
        "  batch_size=batch_size,\n",
        "  )"
      ]
    },
    {
      "cell_type": "code",
      "execution_count": 9,
      "metadata": {
        "colab": {
          "base_uri": "https://localhost:8080/"
        },
        "id": "nmR5Bhdfx78H",
        "outputId": "302c220f-5768-4010-e7bf-4b89de766f51"
      },
      "outputs": [
        {
          "name": "stdout",
          "output_type": "stream",
          "text": [
            "Label 0: 5420 samples\n",
            "Label 1: 2471 samples\n",
            "{0: 1.818, 1: 4.0}\n"
          ]
        }
      ],
      "source": [
        "from collections import Counter\n",
        "import tensorflow as tf\n",
        "\n",
        "# Counting the labels\n",
        "label_counts = Counter()\n",
        "for _, labels in train_ds:\n",
        "    label_counts.update(labels.numpy())\n",
        "\n",
        "# Printing out the count of each label\n",
        "for label, count in label_counts.items():\n",
        "    print(f\"Label {label}: {count} samples\")\n",
        "\n",
        "\n",
        "class_weights = {0: 1.818, 1: 4.0}\n",
        "\n",
        "\n",
        "print(class_weights)"
      ]
    },
    {
      "cell_type": "code",
      "execution_count": 10,
      "metadata": {},
      "outputs": [],
      "source": [
        "# Define the ModuleWrapper class\n",
        "class ModuleWrapper(tf.keras.layers.Layer):\n",
        "    def __init__(self, module, method_name, **kwargs):\n",
        "        super(ModuleWrapper, self).__init__(**kwargs)\n",
        "        self.module = module\n",
        "        self.method_name = method_name\n",
        "\n",
        "    def call(self, inputs):\n",
        "        pass\n",
        "\n",
        "    def get_config(self):\n",
        "        config = super(ModuleWrapper, self).get_config()\n",
        "        config.update({\n",
        "            'module': self.module,\n",
        "            'method_name': self.method_name\n",
        "        })\n",
        "        return config"
      ]
    },
    {
      "cell_type": "code",
      "execution_count": 11,
      "metadata": {},
      "outputs": [],
      "source": [
        "data_augmentation = tf.keras.Sequential([\n",
        "    layers.RandomContrast(0.2), \n",
        "    layers.RandomBrightness(0.2),\n",
        "])"
      ]
    },
    {
      "cell_type": "code",
      "execution_count": 12,
      "metadata": {},
      "outputs": [],
      "source": [
        "lr_schedule = tf.keras.optimizers.schedules.ExponentialDecay(\n",
        "    initial_learning_rate=0.001,\n",
        "    decay_steps=1000,\n",
        "    decay_rate=0.9\n",
        ")"
      ]
    },
    {
      "cell_type": "code",
      "execution_count": 13,
      "metadata": {
        "colab": {
          "base_uri": "https://localhost:8080/"
        },
        "id": "kYKtE2KccG9s",
        "outputId": "748c6fc5-4884-4286-e45f-4a19700bc7b3"
      },
      "outputs": [],
      "source": [
        "resnet_model = Sequential()\n",
        "\n",
        "pretrained_model = tf.keras.applications.ResNet50(\n",
        "    include_top=False,\n",
        "    input_shape=(img_height, img_width, 3),\n",
        "    pooling='avg',\n",
        "    classes=1,\n",
        "    weights='imagenet'\n",
        ")\n",
        "\n",
        "for layer in pretrained_model.layers:\n",
        "    layer.trainable = False\n",
        "\n",
        "# resnet_model.add(data_augmentation)\n",
        "resnet_model.add(pretrained_model)\n",
        "resnet_model.add(layers.Flatten())\n",
        "resnet_model.add(layers.Dense(512, activation='relu'))\n",
        "resnet_model.add(layers.Dropout(0.2))\n",
        "resnet_model.add(layers.Dense(1, activation='sigmoid'))\n",
        "\n",
        "module_wrapper = ModuleWrapper(pretrained_model, \"call\")\n",
        "module_wrapper.build((None, img_height, img_width, 3))\n",
        "\n",
        "# pretrained_model.summary()"
      ]
    },
    {
      "cell_type": "code",
      "execution_count": 14,
      "metadata": {
        "id": "4Q1YSZpOgqn5"
      },
      "outputs": [],
      "source": [
        "resnet_model.compile(optimizer=Adam(learning_rate=lr_schedule), loss='binary_crossentropy', metrics=['accuracy'])"
      ]
    },
    {
      "cell_type": "code",
      "execution_count": null,
      "metadata": {},
      "outputs": [],
      "source": [
        "epochs = 50\n",
        "\n",
        "history = resnet_model.fit(\n",
        "    train_ds,\n",
        "    validation_data=val_ds,\n",
        "    epochs=epochs,\n",
        "    class_weight=class_weights\n",
        ")\n"
      ]
    },
    {
      "cell_type": "code",
      "execution_count": 16,
      "metadata": {},
      "outputs": [
        {
          "name": "stdout",
          "output_type": "stream",
          "text": [
            "Model: \"sequential_1\"\n",
            "_________________________________________________________________\n",
            " Layer (type)                Output Shape              Param #   \n",
            "=================================================================\n",
            " resnet50 (Functional)       (None, 2048)              23587712  \n",
            "                                                                 \n",
            " flatten (Flatten)           (None, 2048)              0         \n",
            "                                                                 \n",
            " dense (Dense)               (None, 512)               1049088   \n",
            "                                                                 \n",
            " dropout (Dropout)           (None, 512)               0         \n",
            "                                                                 \n",
            " dense_1 (Dense)             (None, 1)                 513       \n",
            "                                                                 \n",
            "=================================================================\n",
            "Total params: 24637313 (93.98 MB)\n",
            "Trainable params: 1049601 (4.00 MB)\n",
            "Non-trainable params: 23587712 (89.98 MB)\n",
            "_________________________________________________________________\n",
            "None\n"
          ]
        }
      ],
      "source": [
        "from keras.models import load_model\n",
        "\n",
        "resnet_model.save('themis.keras')\n",
        "themis = tf.keras.models.load_model('themis.keras')\n",
        "print(themis.summary())"
      ]
    },
    {
      "cell_type": "code",
      "execution_count": 17,
      "metadata": {
        "colab": {
          "base_uri": "https://localhost:8080/",
          "height": 512
        },
        "id": "GiB1hPvng2AS",
        "outputId": "934f6e23-b6fe-4896-82cd-1d8de38c6cb3"
      },
      "outputs": [
        {
          "data": {
            "image/png": "[encoded data removed]",
            "text/plain": [
              "<Figure size 640x480 with 1 Axes>"
            ]
          },
          "metadata": {},
          "output_type": "display_data"
        },
        {
          "data": {
            "image/png": "[encoded data removed]",
            "text/plain": [
              "<Figure size 640x480 with 1 Axes>"
            ]
          },
          "metadata": {},
          "output_type": "display_data"
        }
      ],
      "source": [
        "# evaluatie accuracy & loss\n",
        "plt.plot(history.history['accuracy'])\n",
        "plt.plot(history.history['val_accuracy'])\n",
        "plt.title('model accuracy')\n",
        "plt.ylabel('accuracy')\n",
        "plt.xlabel('epoch')\n",
        "plt.legend(['Train', 'Validation'], loc='upper left')\n",
        "plt.show()\n",
        "\n",
        "plt.plot(history.history['loss'])\n",
        "plt.plot(history.history['val_loss'])\n",
        "plt.title('model loss')\n",
        "plt.ylabel('loss')\n",
        "plt.xlabel('epoch')\n",
        "plt.legend(['Train', 'Validation'], loc='upper left')\n",
        "plt.show()"
      ]
    },
    {
      "cell_type": "code",
      "execution_count": null,
      "metadata": {},
      "outputs": [],
      "source": [
        "import cv2\n",
        "import os\n",
        "import numpy as np\n",
        "\n",
        "# Load the model\n",
        "# resnet_model = tf.keras.models.load_model(r\"C:\\OwnPorrima\\themis_model_v.keras\") # local\n",
        "resnet_model = tf.keras.models.load_model(\"/mnt/c/OwnPorrima/themis_model_v3.keras\") # wsl2\n",
        "\n",
        "# TEST_DIR = r\"C:\\covers\\testset\" # local\n",
        "TEST_DIR = \"/mnt/c/covers/testset\" # wsl2\n",
        "\n",
        "CATEGORIES = [\"goed\", \"slecht\"]  # Labels / Subfolders\n",
        "\n",
        "img_height, img_width = 224, 224 \n",
        "\n",
        "predictions = []\n",
        "\n",
        "for category in CATEGORIES:\n",
        "    path = os.path.join(TEST_DIR, category)\n",
        "\n",
        "    for img_name in os.listdir(path):\n",
        "        img_path = os.path.join(path, img_name)\n",
        "        \n",
        "        img = cv2.imread(img_path)\n",
        "        img = cv2.resize(img, (img_width, img_height))\n",
        "        img = np.expand_dims(img, axis=0)  # Add batch dimension\n",
        "\n",
        "        prediction = resnet_model.predict(img)\n",
        "        print(prediction)\n",
        "\n",
        "        predicted_category = \"goed\" if prediction[0][0] <= 0.5 else \"slecht\"\n",
        "\n",
        "        predictions.append((img_path, category, predicted_category))\n",
        "\n",
        "for img_path, true_category, predicted_category in predictions:\n",
        "    print(f\"Image: {img_path}, True Category: {true_category}, Predicted Category: {predicted_category}\")\n"
      ]
    }
  ],
  "metadata": {
    "colab": {
      "provenance": []
    },
    "kernelspec": {
      "display_name": "Python 3",
      "name": "python3"
    },
    "language_info": {
      "codemirror_mode": {
        "name": "ipython",
        "version": 3
      },
      "file_extension": ".py",
      "mimetype": "text/x-python",
      "name": "python",
      "nbconvert_exporter": "python",
      "pygments_lexer": "ipython3",
      "version": "3.6.13"
    }
  },
  "nbformat": 4,
  "nbformat_minor": 0
}
