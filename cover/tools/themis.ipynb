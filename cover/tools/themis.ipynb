{
  "cells": [
    {
      "cell_type": "code",
      "execution_count": 82,
      "metadata": {
        "id": "YcQWmpNLsYg0"
      },
      "outputs": [],
      "source": [
        "import matplotlib.pyplot as plt\n",
        "import numpy as np\n",
        "import os\n",
        "import PIL\n",
        "import tensorflow as tf\n",
        "from tensorflow.keras import layers\n",
        "from tensorflow.keras.models import Sequential\n",
        "from tensorflow.keras.optimizers import Adam\n",
        "from tensorflow.keras.preprocessing.image import ImageDataGenerator\n"
      ]
    },
    {
      "cell_type": "code",
      "execution_count": 71,
      "metadata": {
        "id": "or20LghBwz6c"
      },
      "outputs": [],
      "source": [
        "# wanneer google colab gebruiken, uit comments halen\n",
        "# from google.colab import drive\n",
        "# drive.mount('/content/drive')"
      ]
    },
    {
      "cell_type": "code",
      "execution_count": 83,
      "metadata": {
        "id": "EyCqg4HlwbgS"
      },
      "outputs": [],
      "source": [
        "# DATADIR = r\"/content/drive/MyDrive/covers\"  # Path naar data op google drive\n",
        "# DATADIR = r\"C:\\covers\\covers\"  # Path naar data lokaal\n",
        "DATADIR = '/mnt/c/covers/covers'  # Path naar data met WSL2\n",
        "\n",
        "img_height, img_width = 224, 224\n",
        "batch_size=8\n",
        "# Larger batch size may provide some computational speed-up but requires more memory\n",
        "# Smaller batch sizes may offer better generalization, but training might be slower"
      ]
    },
    {
      "cell_type": "code",
      "execution_count": 84,
      "metadata": {
        "colab": {
          "base_uri": "https://localhost:8080/"
        },
        "id": "7qYYl1CQxInI",
        "outputId": "a3bcfbcf-2c2c-42b7-c046-95a51bea20f3"
      },
      "outputs": [
        {
          "name": "stdout",
          "output_type": "stream",
          "text": [
            "Found 9863 files belonging to 2 classes.\n",
            "Using 8384 files for training.\n"
          ]
        }
      ],
      "source": [
        "train_ds = tf.keras.preprocessing.image_dataset_from_directory(\n",
        "  DATADIR,\n",
        "  validation_split=0.15,\n",
        "  subset=\"training\",\n",
        "  seed=123,\n",
        "  image_size=(img_height, img_width),\n",
        "  batch_size=batch_size,\n",
        "  )"
      ]
    },
    {
      "cell_type": "code",
      "execution_count": 85,
      "metadata": {
        "colab": {
          "base_uri": "https://localhost:8080/"
        },
        "id": "F8ktc70mxyOS",
        "outputId": "d7c187b1-3652-4383-a432-ad3b200142f6"
      },
      "outputs": [
        {
          "name": "stdout",
          "output_type": "stream",
          "text": [
            "Found 9863 files belonging to 2 classes.\n",
            "Using 1479 files for validation.\n"
          ]
        }
      ],
      "source": [
        "val_ds = tf.keras.preprocessing.image_dataset_from_directory(\n",
        "  DATADIR,\n",
        "  validation_split=0.15,\n",
        "  subset=\"validation\",\n",
        "  seed=123,\n",
        "  image_size=(img_height, img_width),\n",
        "  batch_size=batch_size,\n",
        "  )"
      ]
    },
    {
      "cell_type": "code",
      "execution_count": 86,
      "metadata": {
        "colab": {
          "base_uri": "https://localhost:8080/"
        },
        "id": "nmR5Bhdfx78H",
        "outputId": "302c220f-5768-4010-e7bf-4b89de766f51"
      },
      "outputs": [
        {
          "name": "stdout",
          "output_type": "stream",
          "text": [
            "Label 0: 5735 samples\n",
            "Label 1: 2649 samples\n",
            "{0: 1.818, 1: 4.0}\n"
          ]
        }
      ],
      "source": [
        "from collections import Counter\n",
        "import tensorflow as tf\n",
        "\n",
        "# Counting the labels\n",
        "label_counts = Counter()\n",
        "for _, labels in train_ds:\n",
        "    label_counts.update(labels.numpy())\n",
        "\n",
        "# Printing out the count of each label\n",
        "for label, count in label_counts.items():\n",
        "    print(f\"Label {label}: {count} samples\")\n",
        "\n",
        "\n",
        "class_weights = {0: 1.818, 1: 4.0}\n",
        "\n",
        "\n",
        "print(class_weights)"
      ]
    },
    {
      "cell_type": "code",
      "execution_count": 87,
      "metadata": {},
      "outputs": [],
      "source": [
        "# Define the ModuleWrapper class\n",
        "class ModuleWrapper(tf.keras.layers.Layer):\n",
        "    def __init__(self, module, method_name, **kwargs):\n",
        "        super(ModuleWrapper, self).__init__(**kwargs)\n",
        "        self.module = module\n",
        "        self.method_name = method_name\n",
        "\n",
        "    def call(self, inputs):\n",
        "        pass\n",
        "\n",
        "    def get_config(self):\n",
        "        config = super(ModuleWrapper, self).get_config()\n",
        "        config.update({\n",
        "            'module': self.module,\n",
        "            'method_name': self.method_name\n",
        "        })\n",
        "        return config"
      ]
    },
    {
      "cell_type": "code",
      "execution_count": 88,
      "metadata": {},
      "outputs": [],
      "source": [
        "data_augmentation = tf.keras.Sequential([\n",
        "    layers.RandomFlip(\"horizontal_and_vertical\"),\n",
        "    layers.RandomContrast(0.2), \n",
        "    layers.RandomBrightness(0.2),\n",
        "])"
      ]
    },
    {
      "cell_type": "code",
      "execution_count": 89,
      "metadata": {},
      "outputs": [],
      "source": [
        "lr_schedule = tf.keras.optimizers.schedules.ExponentialDecay(\n",
        "    initial_learning_rate=0.001,\n",
        "    decay_steps=1000,\n",
        "    decay_rate=0.9\n",
        ")"
      ]
    },
    {
      "cell_type": "code",
      "execution_count": 90,
      "metadata": {
        "colab": {
          "base_uri": "https://localhost:8080/"
        },
        "id": "kYKtE2KccG9s",
        "outputId": "748c6fc5-4884-4286-e45f-4a19700bc7b3"
      },
      "outputs": [],
      "source": [
        "resnet_model = Sequential()\n",
        "\n",
        "pretrained_model = tf.keras.applications.ResNet50(\n",
        "    include_top=False,\n",
        "    input_shape=(img_height, img_width, 3),\n",
        "    pooling='avg',\n",
        "    classes=1,\n",
        "    weights='imagenet'\n",
        ")\n",
        "\n",
        "for layer in pretrained_model.layers:\n",
        "    layer.trainable = False\n",
        "\n",
        "resnet_model.add(data_augmentation)\n",
        "resnet_model.add(pretrained_model)\n",
        "resnet_model.add(layers.Flatten())\n",
        "resnet_model.add(layers.Dense(512, activation='relu'))\n",
        "resnet_model.add(layers.Dropout(0.2))\n",
        "resnet_model.add(layers.Dense(1, activation='sigmoid'))\n",
        "\n",
        "module_wrapper = ModuleWrapper(pretrained_model, \"call\")\n",
        "module_wrapper.build((None, img_height, img_width, 3))\n",
        "\n",
        "# pretrained_model.summary()"
      ]
    },
    {
      "cell_type": "code",
      "execution_count": 91,
      "metadata": {
        "id": "4Q1YSZpOgqn5"
      },
      "outputs": [],
      "source": [
        "resnet_model.compile(optimizer=Adam(learning_rate=lr_schedule), loss='binary_crossentropy', metrics=['accuracy'])"
      ]
    },
    {
      "cell_type": "code",
      "execution_count": 92,
      "metadata": {},
      "outputs": [
        {
          "name": "stdout",
          "output_type": "stream",
          "text": [
            "Epoch 1/80\n",
            "1048/1048 [==============================] - 39s 33ms/step - loss: 1.4563 - accuracy: 0.7184 - val_loss: 0.5325 - val_accuracy: 0.7417\n",
            "Epoch 2/80\n",
            "1048/1048 [==============================] - 33s 31ms/step - loss: 1.2180 - accuracy: 0.7686 - val_loss: 0.5120 - val_accuracy: 0.7525\n",
            "Epoch 3/80\n",
            "1048/1048 [==============================] - 34s 32ms/step - loss: 1.1295 - accuracy: 0.7969 - val_loss: 0.5349 - val_accuracy: 0.7390\n",
            "Epoch 4/80\n",
            "1048/1048 [==============================] - 33s 32ms/step - loss: 1.0563 - accuracy: 0.8081 - val_loss: 0.4914 - val_accuracy: 0.7721\n",
            "Epoch 5/80\n",
            "1048/1048 [==============================] - 34s 32ms/step - loss: 1.0035 - accuracy: 0.8189 - val_loss: 0.4893 - val_accuracy: 0.7634\n",
            "Epoch 6/80\n",
            "1048/1048 [==============================] - 33s 32ms/step - loss: 0.9585 - accuracy: 0.8366 - val_loss: 0.4390 - val_accuracy: 0.8107\n",
            "Epoch 7/80\n",
            "1048/1048 [==============================] - 34s 32ms/step - loss: 0.9007 - accuracy: 0.8505 - val_loss: 0.5009 - val_accuracy: 0.7850\n",
            "Epoch 8/80\n",
            "1048/1048 [==============================] - 34s 32ms/step - loss: 0.8434 - accuracy: 0.8579 - val_loss: 0.4546 - val_accuracy: 0.7972\n",
            "Epoch 9/80\n",
            "1048/1048 [==============================] - 34s 32ms/step - loss: 0.8122 - accuracy: 0.8621 - val_loss: 0.4378 - val_accuracy: 0.8174\n",
            "Epoch 10/80\n",
            "1048/1048 [==============================] - 33s 31ms/step - loss: 0.7719 - accuracy: 0.8680 - val_loss: 0.4498 - val_accuracy: 0.8134\n",
            "Epoch 11/80\n",
            "1048/1048 [==============================] - 33s 31ms/step - loss: 0.7375 - accuracy: 0.8763 - val_loss: 0.4638 - val_accuracy: 0.8066\n",
            "Epoch 12/80\n",
            "1048/1048 [==============================] - 33s 31ms/step - loss: 0.7020 - accuracy: 0.8867 - val_loss: 0.4820 - val_accuracy: 0.7951\n",
            "Epoch 13/80\n",
            "1048/1048 [==============================] - 33s 32ms/step - loss: 0.6789 - accuracy: 0.8845 - val_loss: 0.4877 - val_accuracy: 0.8039\n",
            "Epoch 14/80\n",
            "1048/1048 [==============================] - 33s 31ms/step - loss: 0.6377 - accuracy: 0.8989 - val_loss: 0.4592 - val_accuracy: 0.8168\n",
            "Epoch 15/80\n",
            "1048/1048 [==============================] - 32s 31ms/step - loss: 0.6029 - accuracy: 0.9011 - val_loss: 0.4829 - val_accuracy: 0.7978\n",
            "Epoch 16/80\n",
            "1048/1048 [==============================] - 32s 31ms/step - loss: 0.5900 - accuracy: 0.9026 - val_loss: 0.4901 - val_accuracy: 0.8012\n",
            "Epoch 17/80\n",
            "1048/1048 [==============================] - 33s 31ms/step - loss: 0.5637 - accuracy: 0.9085 - val_loss: 0.5001 - val_accuracy: 0.8032\n",
            "Epoch 18/80\n",
            "1048/1048 [==============================] - 32s 31ms/step - loss: 0.5515 - accuracy: 0.9095 - val_loss: 0.4833 - val_accuracy: 0.8134\n",
            "Epoch 19/80\n",
            "1048/1048 [==============================] - 32s 30ms/step - loss: 0.5440 - accuracy: 0.9133 - val_loss: 0.5001 - val_accuracy: 0.8066\n",
            "Epoch 20/80\n",
            "1048/1048 [==============================] - 32s 30ms/step - loss: 0.5288 - accuracy: 0.9169 - val_loss: 0.4989 - val_accuracy: 0.8073\n",
            "Epoch 21/80\n",
            "1048/1048 [==============================] - 32s 30ms/step - loss: 0.5085 - accuracy: 0.9171 - val_loss: 0.5113 - val_accuracy: 0.8066\n",
            "Epoch 22/80\n",
            "1048/1048 [==============================] - 31s 30ms/step - loss: 0.4886 - accuracy: 0.9206 - val_loss: 0.5063 - val_accuracy: 0.8100\n",
            "Epoch 23/80\n",
            "1048/1048 [==============================] - 31s 30ms/step - loss: 0.4920 - accuracy: 0.9229 - val_loss: 0.5201 - val_accuracy: 0.8046\n",
            "Epoch 24/80\n",
            "1048/1048 [==============================] - 31s 30ms/step - loss: 0.4878 - accuracy: 0.9234 - val_loss: 0.5285 - val_accuracy: 0.7999\n",
            "Epoch 25/80\n",
            "1048/1048 [==============================] - 32s 30ms/step - loss: 0.4557 - accuracy: 0.9271 - val_loss: 0.5315 - val_accuracy: 0.8026\n",
            "Epoch 26/80\n",
            "1048/1048 [==============================] - 32s 30ms/step - loss: 0.4699 - accuracy: 0.9245 - val_loss: 0.5222 - val_accuracy: 0.8073\n",
            "Epoch 27/80\n",
            "1048/1048 [==============================] - 32s 30ms/step - loss: 0.4521 - accuracy: 0.9292 - val_loss: 0.5359 - val_accuracy: 0.8019\n",
            "Epoch 28/80\n",
            "1048/1048 [==============================] - 32s 30ms/step - loss: 0.4410 - accuracy: 0.9295 - val_loss: 0.5324 - val_accuracy: 0.8053\n",
            "Epoch 29/80\n",
            "1048/1048 [==============================] - 32s 30ms/step - loss: 0.4448 - accuracy: 0.9289 - val_loss: 0.5276 - val_accuracy: 0.8046\n",
            "Epoch 30/80\n",
            "1048/1048 [==============================] - 32s 30ms/step - loss: 0.4336 - accuracy: 0.9293 - val_loss: 0.5225 - val_accuracy: 0.8100\n",
            "Epoch 31/80\n",
            "1048/1048 [==============================] - 31s 29ms/step - loss: 0.4322 - accuracy: 0.9311 - val_loss: 0.5198 - val_accuracy: 0.8147\n",
            "Epoch 32/80\n",
            "1048/1048 [==============================] - 31s 30ms/step - loss: 0.4240 - accuracy: 0.9354 - val_loss: 0.5191 - val_accuracy: 0.8147\n",
            "Epoch 33/80\n",
            "1048/1048 [==============================] - 32s 30ms/step - loss: 0.4277 - accuracy: 0.9352 - val_loss: 0.5271 - val_accuracy: 0.8066\n",
            "Epoch 34/80\n",
            "1048/1048 [==============================] - 32s 30ms/step - loss: 0.4188 - accuracy: 0.9342 - val_loss: 0.5260 - val_accuracy: 0.8134\n",
            "Epoch 35/80\n",
            "1048/1048 [==============================] - 32s 30ms/step - loss: 0.4221 - accuracy: 0.9340 - val_loss: 0.5284 - val_accuracy: 0.8114\n",
            "Epoch 36/80\n",
            "1048/1048 [==============================] - 32s 31ms/step - loss: 0.4116 - accuracy: 0.9357 - val_loss: 0.5263 - val_accuracy: 0.8114\n",
            "Epoch 37/80\n",
            "1048/1048 [==============================] - 32s 30ms/step - loss: 0.4261 - accuracy: 0.9299 - val_loss: 0.5194 - val_accuracy: 0.8168\n",
            "Epoch 38/80\n",
            "1048/1048 [==============================] - 32s 30ms/step - loss: 0.3938 - accuracy: 0.9376 - val_loss: 0.5229 - val_accuracy: 0.8181\n",
            "Epoch 39/80\n",
            "1048/1048 [==============================] - 32s 31ms/step - loss: 0.4086 - accuracy: 0.9369 - val_loss: 0.5217 - val_accuracy: 0.8161\n",
            "Epoch 40/80\n",
            "1048/1048 [==============================] - 32s 30ms/step - loss: 0.4129 - accuracy: 0.9327 - val_loss: 0.5243 - val_accuracy: 0.8201\n",
            "Epoch 41/80\n",
            "1048/1048 [==============================] - 31s 30ms/step - loss: 0.3997 - accuracy: 0.9359 - val_loss: 0.5220 - val_accuracy: 0.8208\n",
            "Epoch 42/80\n",
            "1048/1048 [==============================] - 31s 29ms/step - loss: 0.4095 - accuracy: 0.9371 - val_loss: 0.5230 - val_accuracy: 0.8195\n",
            "Epoch 43/80\n",
            "1048/1048 [==============================] - 31s 29ms/step - loss: 0.4032 - accuracy: 0.9375 - val_loss: 0.5206 - val_accuracy: 0.8235\n",
            "Epoch 44/80\n",
            "1048/1048 [==============================] - 32s 30ms/step - loss: 0.3985 - accuracy: 0.9383 - val_loss: 0.5246 - val_accuracy: 0.8195\n",
            "Epoch 45/80\n",
            "1048/1048 [==============================] - 31s 30ms/step - loss: 0.4108 - accuracy: 0.9365 - val_loss: 0.5234 - val_accuracy: 0.8229\n",
            "Epoch 46/80\n",
            "1048/1048 [==============================] - 31s 29ms/step - loss: 0.3982 - accuracy: 0.9402 - val_loss: 0.5232 - val_accuracy: 0.8222\n",
            "Epoch 47/80\n",
            "1048/1048 [==============================] - 31s 30ms/step - loss: 0.4014 - accuracy: 0.9350 - val_loss: 0.5232 - val_accuracy: 0.8201\n",
            "Epoch 48/80\n",
            "1048/1048 [==============================] - 32s 30ms/step - loss: 0.3972 - accuracy: 0.9375 - val_loss: 0.5206 - val_accuracy: 0.8215\n",
            "Epoch 49/80\n",
            "1048/1048 [==============================] - 31s 30ms/step - loss: 0.4003 - accuracy: 0.9367 - val_loss: 0.5221 - val_accuracy: 0.8195\n",
            "Epoch 50/80\n",
            "1048/1048 [==============================] - 31s 30ms/step - loss: 0.4033 - accuracy: 0.9373 - val_loss: 0.5237 - val_accuracy: 0.8215\n",
            "Epoch 51/80\n",
            "1048/1048 [==============================] - 32s 30ms/step - loss: 0.3838 - accuracy: 0.9410 - val_loss: 0.5257 - val_accuracy: 0.8215\n",
            "Epoch 52/80\n",
            "1048/1048 [==============================] - 32s 30ms/step - loss: 0.3901 - accuracy: 0.9395 - val_loss: 0.5224 - val_accuracy: 0.8222\n",
            "Epoch 53/80\n",
            "1048/1048 [==============================] - 32s 30ms/step - loss: 0.3969 - accuracy: 0.9375 - val_loss: 0.5221 - val_accuracy: 0.8222\n",
            "Epoch 54/80\n",
            "1048/1048 [==============================] - 31s 30ms/step - loss: 0.3947 - accuracy: 0.9385 - val_loss: 0.5228 - val_accuracy: 0.8215\n",
            "Epoch 55/80\n",
            "1048/1048 [==============================] - 32s 30ms/step - loss: 0.3879 - accuracy: 0.9416 - val_loss: 0.5228 - val_accuracy: 0.8215\n",
            "Epoch 56/80\n",
            "1048/1048 [==============================] - 31s 30ms/step - loss: 0.3885 - accuracy: 0.9417 - val_loss: 0.5239 - val_accuracy: 0.8215\n",
            "Epoch 57/80\n",
            "1048/1048 [==============================] - 31s 30ms/step - loss: 0.3857 - accuracy: 0.9401 - val_loss: 0.5229 - val_accuracy: 0.8215\n",
            "Epoch 58/80\n",
            "1048/1048 [==============================] - 31s 30ms/step - loss: 0.3929 - accuracy: 0.9393 - val_loss: 0.5225 - val_accuracy: 0.8229\n",
            "Epoch 59/80\n",
            "1048/1048 [==============================] - 31s 30ms/step - loss: 0.3895 - accuracy: 0.9391 - val_loss: 0.5228 - val_accuracy: 0.8215\n",
            "Epoch 60/80\n",
            "1048/1048 [==============================] - 31s 30ms/step - loss: 0.4117 - accuracy: 0.9373 - val_loss: 0.5228 - val_accuracy: 0.8215\n",
            "Epoch 61/80\n",
            "1048/1048 [==============================] - 31s 29ms/step - loss: 0.3951 - accuracy: 0.9392 - val_loss: 0.5232 - val_accuracy: 0.8208\n",
            "Epoch 62/80\n",
            "1048/1048 [==============================] - 31s 29ms/step - loss: 0.3887 - accuracy: 0.9407 - val_loss: 0.5235 - val_accuracy: 0.8208\n",
            "Epoch 63/80\n",
            "1048/1048 [==============================] - 31s 29ms/step - loss: 0.3896 - accuracy: 0.9387 - val_loss: 0.5236 - val_accuracy: 0.8208\n",
            "Epoch 64/80\n",
            "1048/1048 [==============================] - 31s 29ms/step - loss: 0.3922 - accuracy: 0.9410 - val_loss: 0.5238 - val_accuracy: 0.8215\n",
            "Epoch 65/80\n",
            "1048/1048 [==============================] - 31s 29ms/step - loss: 0.3935 - accuracy: 0.9369 - val_loss: 0.5235 - val_accuracy: 0.8215\n",
            "Epoch 66/80\n",
            "1048/1048 [==============================] - 30s 29ms/step - loss: 0.3950 - accuracy: 0.9396 - val_loss: 0.5237 - val_accuracy: 0.8208\n",
            "Epoch 67/80\n",
            "1048/1048 [==============================] - 31s 30ms/step - loss: 0.3826 - accuracy: 0.9404 - val_loss: 0.5240 - val_accuracy: 0.8201\n",
            "Epoch 68/80\n",
            "1048/1048 [==============================] - 31s 30ms/step - loss: 0.3875 - accuracy: 0.9380 - val_loss: 0.5238 - val_accuracy: 0.8201\n",
            "Epoch 69/80\n",
            "1048/1048 [==============================] - 31s 30ms/step - loss: 0.3799 - accuracy: 0.9396 - val_loss: 0.5237 - val_accuracy: 0.8208\n",
            "Epoch 70/80\n",
            "1048/1048 [==============================] - 30s 29ms/step - loss: 0.3838 - accuracy: 0.9412 - val_loss: 0.5237 - val_accuracy: 0.8208\n",
            "Epoch 71/80\n",
            "1048/1048 [==============================] - 31s 29ms/step - loss: 0.3987 - accuracy: 0.9387 - val_loss: 0.5237 - val_accuracy: 0.8208\n",
            "Epoch 72/80\n",
            "1048/1048 [==============================] - 31s 29ms/step - loss: 0.3842 - accuracy: 0.9437 - val_loss: 0.5236 - val_accuracy: 0.8208\n",
            "Epoch 73/80\n",
            "1048/1048 [==============================] - 33s 31ms/step - loss: 0.3941 - accuracy: 0.9348 - val_loss: 0.5236 - val_accuracy: 0.8208\n",
            "Epoch 74/80\n",
            "1048/1048 [==============================] - 32s 31ms/step - loss: 0.3913 - accuracy: 0.9410 - val_loss: 0.5236 - val_accuracy: 0.8208\n",
            "Epoch 75/80\n",
            "1048/1048 [==============================] - 32s 30ms/step - loss: 0.4025 - accuracy: 0.9368 - val_loss: 0.5237 - val_accuracy: 0.8208\n",
            "Epoch 76/80\n",
            "1048/1048 [==============================] - 32s 31ms/step - loss: 0.3877 - accuracy: 0.9410 - val_loss: 0.5237 - val_accuracy: 0.8208\n",
            "Epoch 77/80\n",
            "1048/1048 [==============================] - 32s 30ms/step - loss: 0.4020 - accuracy: 0.9362 - val_loss: 0.5237 - val_accuracy: 0.8201\n",
            "Epoch 78/80\n",
            "1048/1048 [==============================] - 31s 30ms/step - loss: 0.3954 - accuracy: 0.9387 - val_loss: 0.5238 - val_accuracy: 0.8208\n",
            "Epoch 79/80\n",
            "1048/1048 [==============================] - 32s 30ms/step - loss: 0.3877 - accuracy: 0.9419 - val_loss: 0.5238 - val_accuracy: 0.8208\n",
            "Epoch 80/80\n",
            "1048/1048 [==============================] - 31s 30ms/step - loss: 0.3912 - accuracy: 0.9400 - val_loss: 0.5239 - val_accuracy: 0.8201\n"
          ]
        }
      ],
      "source": [
        "epochs = 80\n",
        "\n",
        "history = resnet_model.fit(\n",
        "    train_ds,\n",
        "    validation_data=val_ds,\n",
        "    epochs=epochs,\n",
        "    class_weight=class_weights\n",
        ")\n"
      ]
    },
    {
      "cell_type": "code",
      "execution_count": 95,
      "metadata": {},
      "outputs": [],
      "source": [
        "# wanneer google colab gebruiken, dit path gebruiken\n",
        "# resnet_model.save(\"/content/drive/MyDrive/covers_model/themis.keras\") # google colab\n",
        "# resnet_model.save(r\"C:\\OwnPorrima\\themis_model_v5.keras\") # local\n",
        "resnet_model.save(\"/mnt/c/OwnPorrima/themis_model_v3.keras\") # wsl2\n"
      ]
    },
    {
      "cell_type": "code",
      "execution_count": 96,
      "metadata": {
        "colab": {
          "base_uri": "https://localhost:8080/",
          "height": 512
        },
        "id": "GiB1hPvng2AS",
        "outputId": "934f6e23-b6fe-4896-82cd-1d8de38c6cb3"
      },
      "outputs": [
        {
          "data": {
            "image/png": "[encoded data removed]",
            "text/plain": [
              "<Figure size 640x480 with 1 Axes>"
            ]
          },
          "metadata": {},
          "output_type": "display_data"
        },
        {
          "data": {
            "image/png": "[encoded data removed]",
            "text/plain": [
              "<Figure size 640x480 with 1 Axes>"
            ]
          },
          "metadata": {},
          "output_type": "display_data"
        }
      ],
      "source": [
        "# evaluatie accuracy & loss\n",
        "plt.plot(history.history['accuracy'])\n",
        "plt.plot(history.history['val_accuracy'])\n",
        "plt.title('model accuracy')\n",
        "plt.ylabel('accuracy')\n",
        "plt.xlabel('epoch')\n",
        "plt.legend(['Train', 'Validation'], loc='upper left')\n",
        "plt.show()\n",
        "\n",
        "plt.plot(history.history['loss'])\n",
        "plt.plot(history.history['val_loss'])\n",
        "plt.title('model loss')\n",
        "plt.ylabel('loss')\n",
        "plt.xlabel('epoch')\n",
        "plt.legend(['Train', 'Validation'], loc='upper left')\n",
        "plt.show()"
      ]
    },
    {
      "cell_type": "code",
      "execution_count": 98,
      "metadata": {},
      "outputs": [
        {
          "name": "stdout",
          "output_type": "stream",
          "text": [
            "1/1 [==============================] - 2s 2s/step\n",
            "[[0.00339165]]\n",
            "1/1 [==============================] - 0s 28ms/step\n",
            "[[0.01541095]]\n",
            "1/1 [==============================] - 0s 19ms/step\n",
            "[[0.0247026]]\n",
            "1/1 [==============================] - 0s 21ms/step\n",
            "[[0.07281414]]\n",
            "1/1 [==============================] - 0s 25ms/step\n",
            "[[0.08406436]]\n",
            "1/1 [==============================] - 0s 18ms/step\n",
            "[[0.0013391]]\n",
            "1/1 [==============================] - 0s 24ms/step\n",
            "[[0.97645193]]\n",
            "1/1 [==============================] - 0s 20ms/step\n",
            "[[0.99997497]]\n",
            "1/1 [==============================] - 0s 19ms/step\n",
            "[[0.7486367]]\n",
            "1/1 [==============================] - 0s 19ms/step\n",
            "[[0.8152295]]\n",
            "1/1 [==============================] - 0s 21ms/step\n",
            "[[0.8857593]]\n",
            "1/1 [==============================] - 0s 24ms/step\n",
            "[[0.9908879]]\n",
            "1/1 [==============================] - 0s 19ms/step\n",
            "[[0.99675924]]\n",
            "Image: /mnt/c/covers/testset/goed/isbn9780030653650.jpg, True Category: goed, Predicted Category: goed\n",
            "Image: /mnt/c/covers/testset/goed/isbn9780030891144.jpg, True Category: goed, Predicted Category: goed\n",
            "Image: /mnt/c/covers/testset/goed/isbn9780039101275.jpg, True Category: goed, Predicted Category: goed\n",
            "Image: /mnt/c/covers/testset/goed/isbn9780043360026.jpg, True Category: goed, Predicted Category: goed\n",
            "Image: /mnt/c/covers/testset/goed/isbn9780043380444.jpg, True Category: goed, Predicted Category: goed\n",
            "Image: /mnt/c/covers/testset/goed/isbn9780043600207.jpg, True Category: goed, Predicted Category: goed\n",
            "Image: /mnt/c/covers/testset/slecht/oclc898772346.jpg, True Category: slecht, Predicted Category: slecht\n",
            "Image: /mnt/c/covers/testset/slecht/oclc898772409.jpg, True Category: slecht, Predicted Category: slecht\n",
            "Image: /mnt/c/covers/testset/slecht/oclc898773139.jpg, True Category: slecht, Predicted Category: slecht\n",
            "Image: /mnt/c/covers/testset/slecht/oclc898773254.jpg, True Category: slecht, Predicted Category: slecht\n",
            "Image: /mnt/c/covers/testset/slecht/oclc898773670.jpg, True Category: slecht, Predicted Category: slecht\n",
            "Image: /mnt/c/covers/testset/slecht/oclc898778304.jpg, True Category: slecht, Predicted Category: slecht\n",
            "Image: /mnt/c/covers/testset/slecht/oclc898785483.jpg, True Category: slecht, Predicted Category: slecht\n"
          ]
        }
      ],
      "source": [
        "import cv2\n",
        "import os\n",
        "import numpy as np\n",
        "\n",
        "# Load the model\n",
        "# resnet_model = tf.keras.models.load_model(r\"C:\\OwnPorrima\\themis_model_v.keras\") # local\n",
        "resnet_model = tf.keras.models.load_model(\"/mnt/c/OwnPorrima/themis_model_v3.keras\") # wsl2\n",
        "\n",
        "# TEST_DIR = r\"C:\\covers\\testset\" # local\n",
        "TEST_DIR = \"/mnt/c/covers/testset\" # wsl2\n",
        "\n",
        "CATEGORIES = [\"goed\", \"slecht\"]  # Labels / Subfolders\n",
        "\n",
        "img_height, img_width = 224, 224 \n",
        "\n",
        "predictions = []\n",
        "\n",
        "for category in CATEGORIES:\n",
        "    path = os.path.join(TEST_DIR, category)\n",
        "\n",
        "    for img_name in os.listdir(path):\n",
        "        img_path = os.path.join(path, img_name)\n",
        "        \n",
        "        img = cv2.imread(img_path)\n",
        "        img = cv2.resize(img, (img_width, img_height))\n",
        "        img = np.expand_dims(img, axis=0)  # Add batch dimension\n",
        "\n",
        "        prediction = resnet_model.predict(img)\n",
        "        print(prediction)\n",
        "\n",
        "        predicted_category = \"goed\" if prediction[0][0] <= 0.5 else \"slecht\"\n",
        "\n",
        "        predictions.append((img_path, category, predicted_category))\n",
        "\n",
        "for img_path, true_category, predicted_category in predictions:\n",
        "    print(f\"Image: {img_path}, True Category: {true_category}, Predicted Category: {predicted_category}\")\n"
      ]
    }
  ],
  "metadata": {
    "colab": {
      "provenance": []
    },
    "kernelspec": {
      "display_name": "Python 3",
      "name": "python3"
    },
    "language_info": {
      "codemirror_mode": {
        "name": "ipython",
        "version": 3
      },
      "file_extension": ".py",
      "mimetype": "text/x-python",
      "name": "python",
      "nbconvert_exporter": "python",
      "pygments_lexer": "ipython3",
      "version": "3.10.13"
    }
  },
  "nbformat": 4,
  "nbformat_minor": 0
}
